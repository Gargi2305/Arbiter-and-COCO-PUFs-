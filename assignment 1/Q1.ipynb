{
  "nbformat": 4,
  "nbformat_minor": 0,
  "metadata": {
    "colab": {
      "provenance": [],
      "include_colab_link": true
    },
    "kernelspec": {
      "name": "python3",
      "display_name": "Python 3"
    },
    "language_info": {
      "name": "python"
    }
  },
  "cells": [
    {
      "cell_type": "markdown",
      "metadata": {
        "id": "view-in-github",
        "colab_type": "text"
      },
      "source": [
        "<a href=\"https://colab.research.google.com/github/Gargi2305/Arbiter-and-COCO-PUFs-/blob/main/assignment%201/Q1.ipynb\" target=\"_parent\"><img src=\"https://colab.research.google.com/assets/colab-badge.svg\" alt=\"Open In Colab\"/></a>"
      ]
    },
    {
      "cell_type": "code",
      "execution_count": 1,
      "metadata": {
        "id": "HOiN3Vwalmc4",
        "outputId": "7fa0265d-4ffd-4a45-b8b6-3036919492b6",
        "colab": {
          "base_uri": "https://localhost:8080/"
        }
      },
      "outputs": [
        {
          "output_type": "stream",
          "name": "stdout",
          "text": [
            "[[ 0  4  8 12]\n",
            " [ 1  5  9 13]\n",
            " [ 2  6 10 14]\n",
            " [ 3  7 11 15]]\n",
            "[[ 0  4  8 12  1  5  9 13]\n",
            " [ 2  6 10 14  3  7 11 15]]\n"
          ]
        }
      ],
      "source": [
        "import numpy as np\n",
        "\n",
        "mat=np.arange(16).reshape(4,4)\n",
        "mat=mat.transpose()\n",
        "print(mat)\n",
        "mat=mat.reshape(2,8)\n",
        "print(mat)"
      ]
    }
  ]
}